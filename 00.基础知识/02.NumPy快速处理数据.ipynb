{
 "cells": [
  {
   "cell_type": "markdown",
   "metadata": {},
   "source": [
    "## NumPy 快速处理数据"
   ]
  },
  {
   "cell_type": "markdown",
   "metadata": {},
   "source": [
    "上一节，我们学习了有关 Python 的基础语法。这次咱们来看看 Python 中一个非常重要的第三方库 NumPy。\n",
    "\n",
    "在基础语法中，我们讲到 Python 数据结构中的 list 列表，它实际上相当于一个数组的结构。而 NumPy 中一个关键数据类型就是关于数组的，那为什么还存在这样一个第三的数组结构呢？"
   ]
  },
  {
   "cell_type": "markdown",
   "metadata": {},
   "source": [
    "### 一、为什么使用 NumPy？"
   ]
  },
  {
   "cell_type": "markdown",
   "metadata": {},
   "source": [
    "实际上，标准的 Python 中，用列表 list 保存数组的数值。由于列表的元素可以是任意的对象，所以列表中 list 保存的是对象的指针。虽然在 Python 编程中隐去了指针的概念，但是数组有指针，Python 的列表 list 其实就是数组。\n",
    "\n",
    "这样如果我要保存一个简单的数组 [0, 1, 2]，就需要有 3 个指针和 3 个整数的对象，这样对于 Python 来说是非常不经济的，浪费了内存和计算时间。\n",
    "\n",
    "那么为什么要用 NumPy 数组结构而不是 Python 本身的列表 list 呢？这是因为列表 list 的元素在系统内存中是分散存储的，而 NumPy 数组存储在一个均匀连续的内存块中。这样数组计算遍历所有的元素，不像 list 还需要对内存地址进行查找，从而节省计算资源。\n",
    "\n",
    "另外在内存访问模式中，缓存会直接把字节块从 RAM 加载到 CPU 寄存器中。因为数据连续的存储在内存中，NumPy 直接利用现代 CPU 的矢量化指令计算，加载寄存器中的多个连续浮点数。另外 NumPy 中的矩阵计算可以采用多线程的方式，充分利用多核 CPU 计算资源，大大提升了计算效率。\n",
    "\n",
    "既然 NumPy 这么强大，那么该从哪里开始入手学习呢？在 NumPy 里有两个重要的对象：ndarray(N-dimensional array object) 解决了多维数组问题，而 ufunc(universal function object) 则是解决对数组进行处理的函数。"
   ]
  },
  {
   "cell_type": "markdown",
   "metadata": {},
   "source": [
    "### 一、ndarray 对象\n",
    "ndarray 实际上是多维数组的含义。在 NumPy 数组中，维数称为秩（rank），一维数组的秩为 1，二维数组的秩为 2，以此类推。在 NumPy 中，每一个线性的数组称为一个轴（axes），其实秩就是描述轴的数量。\n",
    "\n",
    "下面，我们来探究 ndarray 对象是如何创建数组的，又是如何处理结构数组。"
   ]
  },
  {
   "cell_type": "markdown",
   "metadata": {},
   "source": [
    "**创建数组**"
   ]
  },
  {
   "cell_type": "code",
   "execution_count": 7,
   "metadata": {},
   "outputs": [
    {
     "name": "stdout",
     "output_type": "stream",
     "text": [
      "(3,)\n",
      "(3, 3)\n",
      "int32\n",
      "[1 2 3]\n",
      "[[ 1  2  3]\n",
      " [ 4 10  6]\n",
      " [ 7  8  9]]\n"
     ]
    }
   ],
   "source": [
    "import numpy as np\n",
    "a = np.array([1, 2, 3])\n",
    "b = np.array([[1, 2, 3], [4, 5, 6], [7, 8, 9]])\n",
    "b[1, 1] = 10\n",
    "print(a.shape)\n",
    "print (b.shape)\n",
    "print(a.dtype)\n",
    "print(a)\n",
    "print(b)"
   ]
  },
  {
   "cell_type": "markdown",
   "metadata": {},
   "source": [
    "创建数组前，需要引用 NumPy 库，可以通过 array 函数创建数组，如果是多重数组，比如示例中的 b，那么该如何操作呢？\n",
    "\n",
    "可以先把一个数组作为一个元素，然后嵌套起来，比如将 [1, 2, 3] 作为一个元素，然后 [4, 5, 6], [7, 8, 9] 也是作为元素，然后把三个元素再放到 [] 数组里，赋值给变量 b。\n",
    "\n",
    "当然数组也是有属性的，比如你可以通过函数 shape 属性获得数组的大小，通过 dtype 获得元素的属性。如果你想对数组里的数值进行修改的话，直接赋值即可，注意下标是从 0 开始计的，所以如果你想对 b 数组，九宫格里的中间元素进行修改的话，下标应该是 [1, 1]。"
   ]
  },
  {
   "cell_type": "markdown",
   "metadata": {},
   "source": [
    "**结构数组**"
   ]
  },
  {
   "cell_type": "markdown",
   "metadata": {},
   "source": [
    "如果你想统计一个班级里面学生的姓名、年龄，以及语文、英语、数学成绩该怎么办？当然你可以用数组的下标来代表不同的字段，比如下标为 0 的是姓名、下标为 1 的是年龄等，但是这样不显性。\n",
    "\n",
    "实际上在 C 语言里，可以定义结构数组，也就是通过 struct 定义结构类型，结构中的字段占据连续的内存空间，每个结构体占用的内存大小都相同，那在 NumPy 中是怎样操作的呢？"
   ]
  },
  {
   "cell_type": "code",
   "execution_count": 10,
   "metadata": {},
   "outputs": [
    {
     "name": "stdout",
     "output_type": "stream",
     "text": [
      "28.25\n",
      "77.5\n",
      "93.25\n",
      "93.75\n"
     ]
    }
   ],
   "source": [
    "import numpy as np\n",
    "persontype = np.dtype({\n",
    "    'names':['name', 'age', 'chinese', 'math', 'english'],\n",
    "    'formats':['S32','i', 'i', 'i', 'f']})\n",
    "peoples = np.array([(\"ZhangFei\", 32, 75, 100, 90), (\"GuanYu\", 24, 85, 96, 88.5),\n",
    "       (\"ZhaoYun\", 28, 85, 92, 96.5), (\"HuangZhong\", 29, 65, 85, 100)],\n",
    "    dtype=persontype)\n",
    "ages = peoples[:]['age']\n",
    "chineses = peoples[:]['chinese']\n",
    "maths = peoples[:]['math']\n",
    "englishs = peoples[:]['english']\n",
    "print (np.mean(ages))\n",
    "print (np.mean(chineses))\n",
    "print (np.mean(maths))\n",
    "print (np.mean(englishs))"
   ]
  },
  {
   "cell_type": "markdown",
   "metadata": {},
   "source": [
    "咱们来仔细观察一下这个例子，首先 NumPy 中是用 dtype 定义的结构类型，然后再定义数组的时候，用 array 中制定了结构数组的类型 `dtype = persontype`，这样就可以自由地使用自定义的 persontype 了。比如像知道每个人的语文成绩，就可以用 `chinese = peolpes[:]['chinese']`。除此之外，NumPy 中还有一些自带的数学运算，比如计算平均值使用 np.mean。"
   ]
  },
  {
   "cell_type": "code",
   "execution_count": null,
   "metadata": {},
   "outputs": [],
   "source": []
  }
 ],
 "metadata": {
  "interpreter": {
   "hash": "51a9663a131f1b5758c45b97a2d6917c8ae86b33e231c3733631cbc7265cfc89"
  },
  "kernelspec": {
   "display_name": "Python 3.9.7 64-bit ('base': conda)",
   "language": "python",
   "name": "python3"
  },
  "language_info": {
   "codemirror_mode": {
    "name": "ipython",
    "version": 3
   },
   "file_extension": ".py",
   "mimetype": "text/x-python",
   "name": "python",
   "nbconvert_exporter": "python",
   "pygments_lexer": "ipython3",
   "version": "3.9.7"
  },
  "orig_nbformat": 4
 },
 "nbformat": 4,
 "nbformat_minor": 2
}
