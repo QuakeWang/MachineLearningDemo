{
 "cells": [
  {
   "cell_type": "markdown",
   "metadata": {},
   "source": [
    "## Python 基础语法\n",
    "在开始动手学习机器学习的相关内容之前，要求我们要掌握一些 Python 的基础用法，下面则会将日后一些常用的语法进行说明。假设读者已经拥有了一些例如 C、Java 等语言的基础，那么理解 Python 来说自然就不会是很难。\n",
    "那么下面我们就开始动手学习吧！"
   ]
  },
  {
   "cell_type": "markdown",
   "metadata": {},
   "source": [
    "### 一、输入输出\n",
    "还记得在刚开始学习一门新的语言的时候，都要先说一句“hello world”。我们也不例外，哈哈哈。只不过 Python 的语法要简介的多，都不需要你去定义变量的类型，直接调用 input() 函数，就可以完成输入赋值的操作。可以参考下面的代码："
   ]
  },
  {
   "cell_type": "code",
   "execution_count": 23,
   "metadata": {},
   "outputs": [
    {
     "name": "stdout",
     "output_type": "stream",
     "text": [
      "hello, Tim\n",
      "sum = 200\n"
     ]
    }
   ],
   "source": [
    "name = input(\"What's your name?\")\n",
    "sum = 100 + 100\n",
    "print('hello, %s' %name)\n",
    "print('sum = %d' %sum)"
   ]
  },
  {
   "cell_type": "markdown",
   "metadata": {},
   "source": [
    "其中 input() 是输入函数，print() 是输出函数，%name 代表变量的数值，因为是字符串类型，所以占位符用 %s 替代，同理，再看看下面的 sum 是整型，所以占位符是 %d。这一点是不是和我们之前所学的编程语法很像，只不过显得更加简介。"
   ]
  },
  {
   "cell_type": "markdown",
   "metadata": {},
   "source": [
    "### 二、选择分支语句\n",
    "判断语句：if...else...\n",
    "这一点相比大家都已经很是熟悉了，直接看看代码的差异点在哪吧。"
   ]
  },
  {
   "cell_type": "code",
   "execution_count": 24,
   "metadata": {},
   "outputs": [
    {
     "name": "stdout",
     "output_type": "stream",
     "text": [
      "Excellent\n"
     ]
    }
   ],
   "source": [
    "score = int(input(\"What's your score?\"))\n",
    "if score >= 90:\n",
    "    print ('Excellent')\n",
    "else:\n",
    "    if score < 60:\n",
    "        print ('Fail')\n",
    "    else:\n",
    "        print ('Good job')"
   ]
  },
  {
   "cell_type": "markdown",
   "metadata": {},
   "source": [
    "if...else... 是经典的判断语句，需要注意的是在 if expression 后面有个冒号，同样在 else 后面也存在冒号。\n",
    "\n",
    "另外需要注意的是，Python 不像其他语言一样使用 {} 或者 begin...end 来分隔代码块，而是采用代码缩进和冒号的方式来区分代码之间的层次关系。所以**代码缩进在 Python 中是一种语法**，如果代码缩进不同意，比如有的是 tab 有的是空格，就会产生错误或者异常。相同层次的代码块一定要采用相同层次的缩进。\n",
    "\n",
    "btw，细心的读者可能发现，为什么在赋值的时候需要加一个 int 呢？？那是因为 input() 函数默认的返回值是 str 型，在前面加一个 int 用作强制类型转换。"
   ]
  },
  {
   "cell_type": "markdown",
   "metadata": {},
   "source": [
    "### 三、循环"
   ]
  },
  {
   "cell_type": "markdown",
   "metadata": {},
   "source": [
    "#### 3.1 循环语句：for...in"
   ]
  },
  {
   "cell_type": "code",
   "execution_count": 25,
   "metadata": {},
   "outputs": [
    {
     "name": "stdout",
     "output_type": "stream",
     "text": [
      "sum = 55\n"
     ]
    }
   ],
   "source": [
    "sum = 0\n",
    "for number in range(11):\n",
    "    sum = sum + number\n",
    "print('sum = %d' %sum)"
   ]
  },
  {
   "cell_type": "markdown",
   "metadata": {},
   "source": [
    "for 循环是一种迭代循环机制，迭代即重复相同的逻辑操作。学过 Java 的同学看见是不是有一种像增强 for 循环的感觉呢。\n",
    "\n",
    "在规定循环执行次数，我们可以使用 range 函数，它在 for 循环中比较常用。range(11) 代表 0 到 10，但不包括 11，也相当于 range(0, 11)，range 里面还可以指定增加步长，比如 range(1, 11, 2) 代表的是 [1, 3, 5, 7, 9]。"
   ]
  },
  {
   "cell_type": "markdown",
   "metadata": {},
   "source": [
    "#### 3.2 循环语句：while"
   ]
  },
  {
   "cell_type": "code",
   "execution_count": 26,
   "metadata": {},
   "outputs": [
    {
     "name": "stdout",
     "output_type": "stream",
     "text": [
      "sum = 55\n"
     ]
    }
   ],
   "source": [
    "sum = 0\n",
    "number = 1\n",
    "while number < 11:\n",
    "    sum = sum + number\n",
    "    number = number + 1\n",
    "print('sum = %d' %sum)"
   ]
  },
  {
   "cell_type": "markdown",
   "metadata": {},
   "source": [
    "1 到 10 的求和也可以使用 while 循环来写，这里 while 控制了循环的次数。while 循环时条件循环，在 while 循环中对于变量的计算方式更加灵活。因此 while 循环适合循环次数不确定的循环，而 for 选好的条件相对确定，适合固定次数的循环。"
   ]
  },
  {
   "cell_type": "markdown",
   "metadata": {},
   "source": [
    "### 四、数据类型：列表、元组、字典、集合"
   ]
  },
  {
   "cell_type": "markdown",
   "metadata": {},
   "source": [
    "#### 4.1 列表 []"
   ]
  },
  {
   "cell_type": "code",
   "execution_count": 30,
   "metadata": {},
   "outputs": [
    {
     "name": "stdout",
     "output_type": "stream",
     "text": [
      "['a', 'b', 'c', 'd']\n",
      "4\n",
      "['mm', 'a', 'b', 'c']\n"
     ]
    }
   ],
   "source": [
    "lists = ['a', 'b', 'c']\n",
    "lists.append('d')\n",
    "print(lists)\n",
    "print(len(lists))\n",
    "lists.insert(0, 'mm')\n",
    "lists.pop()\n",
    "print(lists)"
   ]
  },
  {
   "cell_type": "markdown",
   "metadata": {},
   "source": [
    "列表是 Python 中常用的数据结构，有点类似于数组，鞠咏增删改查的功能。我们可以使用 len() 函数来获得 lists 中元素的个数；使用 append() 在尾部添加元素；使用 insert() 在列表中插入元素；使用 pop() 删除尾部的元素。"
   ]
  },
  {
   "cell_type": "markdown",
   "metadata": {},
   "source": [
    "#### 4.2 元组（tuple）"
   ]
  },
  {
   "cell_type": "code",
   "execution_count": 32,
   "metadata": {},
   "outputs": [
    {
     "name": "stdout",
     "output_type": "stream",
     "text": [
      "tupleA\n"
     ]
    }
   ],
   "source": [
    "tuples = ('tupleA', 'tupleB')\n",
    "print(tuples[0])"
   ]
  },
  {
   "cell_type": "markdown",
   "metadata": {},
   "source": [
    "元组 tuple 和 list 非常类似，但是 tuple 一旦初始化就不能修改。因为不能修改所有没有 append()、insert() 这样的方法，可以像访问数组一样进行访问（下标默认是从 0 开始的）,比如 tuple[0]，但不能赋值。"
   ]
  },
  {
   "cell_type": "markdown",
   "metadata": {},
   "source": [
    "#### 4.3 字典 {dictionary}"
   ]
  },
  {
   "cell_type": "code",
   "execution_count": 38,
   "metadata": {},
   "outputs": [
    {
     "name": "stdout",
     "output_type": "stream",
     "text": [
      "{'guanyu': 95, 'zhangfei': 96, 'zhaoyun': 98}\n",
      "True\n",
      "95\n",
      "99\n",
      "{'guanyu': 95, 'zhaoyun': 98}\n"
     ]
    }
   ],
   "source": [
    "# -*- coding: utf-8 -*\n",
    "# 定义一个 dictionary\n",
    "score = {'guanyu':95, 'zhangfei':96}\n",
    "# 添加一个元素\n",
    "score['zhaoyun'] = 98\n",
    "print(score)\n",
    "# 删除一个元素\n",
    "score.pop('zhangfei')\n",
    "# 查看 key 是否存在\n",
    "print('guanyu' in score)\n",
    "# 查看一个 key 对应的值\n",
    "print(score.get('guanyu'))\n",
    "print(score.get('huangzhong', 99))\n",
    "print(score)"
   ]
  },
  {
   "cell_type": "markdown",
   "metadata": {},
   "source": [
    "字典其实就是 {key, value}。多次对同一个 key 放入 value，后面的值会把前面的值替换掉，经过上述的操作会发现，字典也支持增删改查。增加字典的元素相当于赋值，比如 score['zhaoyun'] = 98，删除一个元素使用 pop()，查询使用 get。仔细观察最后一个例子，我们会发现，在使用 get 查询的时候，如果查询的值不存在，将会给一个默认值，比如 `print(score.get('huangzhong', 99))`，但这个值不会添加到字典中去。"
   ]
  },
  {
   "cell_type": "markdown",
   "metadata": {},
   "source": [
    "#### 4.4 集合 set"
   ]
  },
  {
   "cell_type": "code",
   "execution_count": 41,
   "metadata": {},
   "outputs": [
    {
     "name": "stdout",
     "output_type": "stream",
     "text": [
      "{'d', 'a', 'c'}\n",
      "True\n"
     ]
    }
   ],
   "source": [
    "s = set(['a', 'b', 'c'])\n",
    "s.add('d')\n",
    "s.remove('b')\n",
    "print(s)\n",
    "print('c' in s)"
   ]
  },
  {
   "cell_type": "markdown",
   "metadata": {},
   "source": [
    "集合 set 和字典 dictionary 类似，只不过它是 key 的集合，不存储 value。同样支持增删查，增加使用 add，删除使用 remove，查询看某个元素是否在这个集合里，使用 in。"
   ]
  },
  {
   "cell_type": "markdown",
   "metadata": {},
   "source": [
    "### 五、注释：#"
   ]
  },
  {
   "cell_type": "markdown",
   "metadata": {},
   "source": [
    "注释在 Python 中使用 #，如果注释中有中文，一般会在代码前添加 `# -- coding: utf-8 -`。\n",
    "\n",
    "如果是多行注释，使用三个单引号，或者三个双引号，比如："
   ]
  },
  {
   "cell_type": "code",
   "execution_count": 43,
   "metadata": {},
   "outputs": [
    {
     "data": {
      "text/plain": [
       "'\\n这是多行注释，用三个单引号\\n这是多行注释，用三个单引号 \\n这是多行注释，用三个单引号\\n'"
      ]
     },
     "execution_count": 43,
     "metadata": {},
     "output_type": "execute_result"
    }
   ],
   "source": [
    "\n",
    "# -*- coding: utf-8 -*\n",
    "'''\n",
    "这是多行注释，用三个单引号\n",
    "这是多行注释，用三个单引号 \n",
    "这是多行注释，用三个单引号\n",
    "'''"
   ]
  },
  {
   "cell_type": "markdown",
   "metadata": {},
   "source": [
    "### 六、引用模块/包：import"
   ]
  },
  {
   "cell_type": "code",
   "execution_count": null,
   "metadata": {},
   "outputs": [],
   "source": [
    "\n",
    "# 导入一个模块\n",
    "import model_name\n",
    "# 导入多个模块\n",
    "import module_name1,module_name2\n",
    "# 导入包中指定模块 \n",
    "from package_name import moudule_name\n",
    "# 导入包中所有模块 \n",
    "from package_name import *"
   ]
  },
  {
   "cell_type": "markdown",
   "metadata": {},
   "source": [
    "Python 语言中 import 的使用很简单，直接使用 import module_name 语句导入即可。这里 import 的本质是什么呢？import 的本质是路径搜索。import 引用可以是模块 module，或者包 package。\n",
    "\n",
    "针对 module，实际上是引用一个 .py 文件。而针对 package，可以采用 from...import... 的方式，这里实际上是从一个目录中引用模块，这是目录结构中不许带有一个 _init_.py 文件。"
   ]
  },
  {
   "cell_type": "markdown",
   "metadata": {},
   "source": [
    "### 七、函数：def"
   ]
  },
  {
   "cell_type": "code",
   "execution_count": 45,
   "metadata": {},
   "outputs": [
    {
     "name": "stdout",
     "output_type": "stream",
     "text": [
      "100\n"
     ]
    }
   ],
   "source": [
    "def addone(score):\n",
    "    return score + 1\n",
    "print(addone(99))"
   ]
  },
  {
   "cell_type": "markdown",
   "metadata": {},
   "source": [
    "函数代码块以 def 关键字开头，后接函数标识符名称和圆括号，在圆括号里面是传进来的参数，然后通过 return 进行函数结果的反馈。"
   ]
  },
  {
   "cell_type": "markdown",
   "metadata": {},
   "source": [
    "以上便是在机器学习过程中常用的一些语法啦，可以多加练习，遇到不会的情况可以查阅相关的文档。\n",
    "\n",
    "最后说一句：新年快乐呀！"
   ]
  }
 ],
 "metadata": {
  "interpreter": {
   "hash": "51a9663a131f1b5758c45b97a2d6917c8ae86b33e231c3733631cbc7265cfc89"
  },
  "kernelspec": {
   "display_name": "Python 3",
   "language": "python",
   "name": "python3"
  },
  "language_info": {
   "codemirror_mode": {
    "name": "ipython",
    "version": 3
   },
   "file_extension": ".py",
   "mimetype": "text/x-python",
   "name": "python",
   "nbconvert_exporter": "python",
   "pygments_lexer": "ipython3",
   "version": "3.7.2"
  }
 },
 "nbformat": 4,
 "nbformat_minor": 2
}
