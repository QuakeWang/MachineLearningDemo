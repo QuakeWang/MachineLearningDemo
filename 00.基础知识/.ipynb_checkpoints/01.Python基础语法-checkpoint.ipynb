{
 "cells": [
  {
   "cell_type": "markdown",
   "metadata": {},
   "source": [
    "## Python 基础语法\n",
    "在开始动手学习机器学习的相关内容之前，要求我们要掌握一些 Python 的基础用法，下面则会将日后一些常用的语法进行说明。假设读者已经拥有了一些例如 C、Java 等语言的基础，那么理解 Python 来说自然就不会是很难。\n",
    "那么下面我们就开始动手学习吧！"
   ]
  },
  {
   "cell_type": "markdown",
   "metadata": {},
   "source": [
    "### 一、输入输出\n",
    "还记得在刚开始学习一门新的语言的时候，都要先说一句“hello world”。我们也不例外，哈哈哈。只不过 Python 的语法要简介的多，都不需要你去定义变量的类型，直接调用 input() 函数，就可以完成输入赋值的操作。可以参考下面的代码："
   ]
  },
  {
   "cell_type": "code",
   "execution_count": 3,
   "metadata": {},
   "outputs": [
    {
     "name": "stdout",
     "output_type": "stream",
     "text": [
      "hello, Tim\n",
      "sum = 200\n"
     ]
    }
   ],
   "source": [
    "name = input(\"What's your name?\")\n",
    "sum = 100 + 100\n",
    "print('hello, %s' %name)\n",
    "print('sum = %d' %sum)"
   ]
  },
  {
   "cell_type": "markdown",
   "metadata": {},
   "source": [
    "其中 input() 是输入函数，print() 是输出函数，%name 代表变量的数值，因为是字符串类型，所以占位符用 %s 替代，同理，再看看下面的 sum 是整型，所以占位符是 %d。这一点是不是和我们之前所学的编程语法很像，只不过显得更加简介。"
   ]
  },
  {
   "cell_type": "markdown",
   "metadata": {},
   "source": [
    "### 二、选择分支语句\n",
    "判断语句：if...else...\n",
    "这一点相比大家都已经很是熟悉了，直接看看代码的差异点在哪吧。"
   ]
  },
  {
   "cell_type": "code",
   "execution_count": 11,
   "metadata": {},
   "outputs": [
    {
     "name": "stdout",
     "output_type": "stream",
     "text": [
      "Fail\n"
     ]
    }
   ],
   "source": [
    "score = int(input(\"What's your score?\"))\n",
    "if score >= 90:\n",
    "    print ('Excellent')\n",
    "else:\n",
    "    if score < 60:\n",
    "        print ('Fail')\n",
    "    else:\n",
    "        print ('Good job')"
   ]
  },
  {
   "cell_type": "markdown",
   "metadata": {},
   "source": [
    "if...else... 是经典的判断语句，需要注意的是在 if expression 后面有个冒号，同样在 else 后面也存在冒号。\n",
    "\n",
    "另外需要注意的是，Python 不像其他语言一样使用 {} 或者 begin...end 来分隔代码块，而是采用代码缩进和冒号的方式来区分代码之间的层次关系。所以**代码缩进在 Python 中是一种语法**，如果代码缩进不同意，比如有的是 tab 有的是空格，就会产生错误或者异常。相同层次的代码块一定要采用相同层次的缩进。\n",
    "\n",
    "btw，细心的读者可能发现，为什么在赋值的时候需要加一个 int 呢？？那是因为 input() 函数默认的返回值是 str 型，在前面加一个 int 用作强制类型转换。"
   ]
  },
  {
   "cell_type": "markdown",
   "metadata": {},
   "source": [
    "### 三、循环"
   ]
  },
  {
   "cell_type": "markdown",
   "metadata": {},
   "source": [
    "#### 3.1 循环语句：for...in"
   ]
  },
  {
   "cell_type": "code",
   "execution_count": 15,
   "metadata": {},
   "outputs": [
    {
     "name": "stdout",
     "output_type": "stream",
     "text": [
      "sum = 5050\n"
     ]
    }
   ],
   "source": [
    "sum = 0\n",
    "for number in range(101):\n",
    "    sum = sum + number\n",
    "print('sum = %d' %sum)"
   ]
  },
  {
   "cell_type": "markdown",
   "metadata": {},
   "source": [
    "for 循环是一种迭代循环机制，迭代即重复相同的逻辑操作。学过 Java 的同学看见是不是有一种像增强 for 循环的感觉呢。\n",
    "\n",
    "在规定循环执行次数，我们可以使用 range 函数，它在 for 循环中比较常用。range(11) 代表 0 到 10，但不包括 11，也相当于 range(0, 11)，range 里面还可以指定增加步长，比如 range(1, 11, 2) 代表的是 [1, 3, 5, 7, 9]。"
   ]
  },
  {
   "cell_type": "markdown",
   "metadata": {},
   "source": [
    "#### 3.2 循环语句：while"
   ]
  },
  {
   "cell_type": "code",
   "execution_count": null,
   "metadata": {},
   "outputs": [],
   "source": []
  },
  {
   "cell_type": "markdown",
   "metadata": {},
   "source": []
  }
 ],
 "metadata": {
  "interpreter": {
   "hash": "51a9663a131f1b5758c45b97a2d6917c8ae86b33e231c3733631cbc7265cfc89"
  },
  "kernelspec": {
   "display_name": "Python 3",
   "language": "python",
   "name": "python3"
  },
  "language_info": {
   "codemirror_mode": {
    "name": "ipython",
    "version": 3
   },
   "file_extension": ".py",
   "mimetype": "text/x-python",
   "name": "python",
   "nbconvert_exporter": "python",
   "pygments_lexer": "ipython3",
   "version": "3.7.2"
  }
 },
 "nbformat": 4,
 "nbformat_minor": 2
}
